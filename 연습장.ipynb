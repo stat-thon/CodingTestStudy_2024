{
 "cells": [
  {
   "cell_type": "code",
   "execution_count": 1,
   "metadata": {},
   "outputs": [
    {
     "ename": "ValueError",
     "evalue": "not enough values to unpack (expected 2, got 0)",
     "output_type": "error",
     "traceback": [
      "\u001b[1;31m---------------------------------------------------------------------------\u001b[0m",
      "\u001b[1;31mValueError\u001b[0m                                Traceback (most recent call last)",
      "Cell \u001b[1;32mIn[1], line 7\u001b[0m\n\u001b[0;32m      4\u001b[0m data \u001b[38;5;241m=\u001b[39m []\n\u001b[0;32m      5\u001b[0m \u001b[38;5;28;01mfor\u001b[39;00m i \u001b[38;5;129;01min\u001b[39;00m \u001b[38;5;28mrange\u001b[39m(n):\n\u001b[1;32m----> 7\u001b[0m     w, h \u001b[38;5;241m=\u001b[39m \u001b[38;5;28mmap\u001b[39m(\u001b[38;5;28mint\u001b[39m, \u001b[38;5;28minput\u001b[39m()\u001b[38;5;241m.\u001b[39msplit())\n\u001b[0;32m      8\u001b[0m     data\u001b[38;5;241m.\u001b[39mappend((w, h))\n",
      "\u001b[1;31mValueError\u001b[0m: not enough values to unpack (expected 2, got 0)"
     ]
    }
   ],
   "source": [
    "n = int(input())\n",
    "\n",
    "result = []\n",
    "data = []\n",
    "for i in range(n):\n",
    "\n",
    "    w, h = map(int, input().split())\n",
    "    data.append((w, h))"
   ]
  },
  {
   "cell_type": "code",
   "execution_count": 31,
   "metadata": {},
   "outputs": [],
   "source": [
    "for i in range(n):\n",
    "    \n",
    "    cnt = 1\n",
    "    for j in range(n):\n",
    "\n",
    "        if data[i][0] < data[j][0] and data[i][1] < data[j][1]:\n",
    "\n",
    "            cnt += 1\n",
    "\n",
    "    \n",
    "    result.append(cnt)\n"
   ]
  },
  {
   "cell_type": "code",
   "execution_count": 30,
   "metadata": {},
   "outputs": [
    {
     "name": "stdout",
     "output_type": "stream",
     "text": [
      "1 1 0 1 4\n"
     ]
    }
   ],
   "source": [
    "print(*result)"
   ]
  },
  {
   "cell_type": "code",
   "execution_count": 12,
   "metadata": {},
   "outputs": [
    {
     "name": "stdout",
     "output_type": "stream",
     "text": [
      "2\n",
      "1\n",
      "2\n",
      "0\n"
     ]
    },
    {
     "ename": "TypeError",
     "evalue": "deque.popleft() takes no arguments (1 given)",
     "output_type": "error",
     "traceback": [
      "\u001b[1;31m---------------------------------------------------------------------------\u001b[0m",
      "\u001b[1;31mTypeError\u001b[0m                                 Traceback (most recent call last)",
      "Cell \u001b[1;32mIn[12], line 31\u001b[0m\n\u001b[0;32m     28\u001b[0m \u001b[38;5;28;01melif\u001b[39;00m order \u001b[38;5;241m==\u001b[39m \u001b[38;5;124m\"\u001b[39m\u001b[38;5;124mpop_front\u001b[39m\u001b[38;5;124m\"\u001b[39m:\n\u001b[0;32m     30\u001b[0m     \u001b[38;5;28;01mif\u001b[39;00m dq:\n\u001b[1;32m---> 31\u001b[0m         q \u001b[38;5;241m=\u001b[39m \u001b[43mdq\u001b[49m\u001b[38;5;241;43m.\u001b[39;49m\u001b[43mpopleft\u001b[49m\u001b[43m(\u001b[49m\u001b[43mnumber\u001b[49m\u001b[43m)\u001b[49m\n\u001b[0;32m     32\u001b[0m         \u001b[38;5;28mprint\u001b[39m(q)\n\u001b[0;32m     34\u001b[0m     \u001b[38;5;28;01melse\u001b[39;00m:\n",
      "\u001b[1;31mTypeError\u001b[0m: deque.popleft() takes no arguments (1 given)"
     ]
    }
   ],
   "source": [
    "from collections import deque\n",
    "dq = deque()\n",
    "n = int(input())\n",
    "\n",
    "\n",
    "\n",
    "for _ in range(n):\n",
    "    \n",
    "    m = input().split()\n",
    "    \n",
    "    if len(m) == 2:\n",
    "        order, number = m\n",
    "        number = int(number)\n",
    "        \n",
    "    else:\n",
    "        order = m[0]\n",
    "    \n",
    "        \n",
    "    \n",
    "    if order == \"push_front\":\n",
    "        \n",
    "        dq.appendleft(number)\n",
    "        \n",
    "    elif order == \"push_back\":\n",
    "        \n",
    "        dq.append(number)\n",
    "        \n",
    "    elif order == \"pop_front\":\n",
    "        \n",
    "        if dq:\n",
    "            q = dq.popleft()\n",
    "            print(q)\n",
    "            \n",
    "        else:\n",
    "            print(-1)\n",
    "        \n",
    "        \n",
    "    elif order == \"pop_back\":\n",
    "        \n",
    "        if dq: \n",
    "            q = dq.pop()\n",
    "            print(q)\n",
    "           \n",
    "        else:\n",
    "            print(-1)\n",
    "            \n",
    "    elif order == \"size\":\n",
    "        \n",
    "        print(len(dq))\n",
    "        \n",
    "    elif order == \"empty\":\n",
    "        \n",
    "        if dq:\n",
    "            print(0)\n",
    "        else:\n",
    "            print(1)\n",
    "            \n",
    "    elif order == \"front\":\n",
    "        \n",
    "        if dq:\n",
    "            print(dq[0])\n",
    "            \n",
    "        else:\n",
    "            print(-1)\n",
    "            \n",
    "    elif order == \"back\":\n",
    "        \n",
    "        if dq:\n",
    "            print(dq[-1])\n",
    "            \n",
    "        else:\n",
    "            print(-1)\n",
    "    \n",
    "        "
   ]
  },
  {
   "cell_type": "code",
   "execution_count": 6,
   "metadata": {},
   "outputs": [
    {
     "data": {
      "text/plain": [
       "['order']"
      ]
     },
     "execution_count": 6,
     "metadata": {},
     "output_type": "execute_result"
    }
   ],
   "source": [
    "m"
   ]
  },
  {
   "cell_type": "code",
   "execution_count": null,
   "metadata": {},
   "outputs": [],
   "source": [
    "order = m[1]"
   ]
  },
  {
   "cell_type": "code",
   "execution_count": null,
   "metadata": {},
   "outputs": [],
   "source": [
    "from collection import deque\n",
    "import sys\n",
    "\n",
    "dq = deque()\n",
    "\n",
    "n = int(input())\n",
    "\n",
    "for _ in range(n):\n",
    "    m = sys.stdin.readline()\n",
    "    order, number = order.split()\n",
    "    \n",
    "    if number:\n",
    "        number = int(number)\n",
    "        \n",
    "    \n",
    "    if order = \"push_front\":\n",
    "        \n",
    "        dq.appendleft(number)\n",
    "        \n",
    "    elif order = \"push_back\":\n",
    "        \n",
    "        dq.append(number)\n",
    "        \n",
    "    elif order = \"pop_front\":\n",
    "        \n",
    "        if dq:\n",
    "            print(dq.popleft(number))\n",
    "            \n",
    "        else:\n",
    "            print(-1)\n",
    "        \n",
    "        \n",
    "    elif order = \"pop_back\":\n",
    "        \n",
    "        if dq: \n",
    "            print(dq.pop(number))\n",
    "           \n",
    "        else:\n",
    "            print(-1)\n",
    "            \n",
    "    elif order = \"size\":\n",
    "        \n",
    "        print(len(dq))\n",
    "        \n",
    "    elif order = \"empty\":\n",
    "        \n",
    "        if dq:\n",
    "            print(0)\n",
    "        else:\n",
    "            print(1)\n",
    "            \n",
    "    elif order = \"front\":\n",
    "        \n",
    "        if dq:\n",
    "            print(dq[0])\n",
    "            \n",
    "        else:\n",
    "            print(-1)\n",
    "            \n",
    "    elif order = \"back\":\n",
    "        \n",
    "        if dq:\n",
    "            print(dq[-1])\n",
    "            \n",
    "        else:\n",
    "            print(-1)\n",
    "            \n",
    "        \n",
    "    \n",
    "    \n",
    "\n"
   ]
  }
 ],
 "metadata": {
  "kernelspec": {
   "display_name": "thon",
   "language": "python",
   "name": "python3"
  },
  "language_info": {
   "codemirror_mode": {
    "name": "ipython",
    "version": 3
   },
   "file_extension": ".py",
   "mimetype": "text/x-python",
   "name": "python",
   "nbconvert_exporter": "python",
   "pygments_lexer": "ipython3",
   "version": "3.12.1"
  }
 },
 "nbformat": 4,
 "nbformat_minor": 2
}
